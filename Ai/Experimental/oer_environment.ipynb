{
 "cells": [
  {
   "cell_type": "code",
   "execution_count": 3,
   "metadata": {},
   "outputs": [],
   "source": [
    "from gym.core import Env\n",
    "from autolab.autolab import Potentiostat\n",
    "from secm.secm import SECM"
   ]
  },
  {
   "cell_type": "code",
   "execution_count": null,
   "metadata": {},
   "outputs": [],
   "source": [
    "from typing import Optional, Tuple, Union\n",
    "\n",
    "\n",
    "class OerEnvironment (Env):\n",
    "\n",
    "    def __init__(self, potentiostat: Potentiostat, secm: SECM) -> None:\n",
    "        \n",
    "        #TODO: how to check if potentiostat is connected\n",
    "        self.potentiostat = potentiostat\n",
    "        self.secm = secm\n",
    "        self.step_size = 2500\n",
    "        \n",
    "        self.action_space = None\n",
    "        self.observation_space = None\n",
    "        self.reward_range = None\n",
    "        self.spec = None\n",
    "\n",
    "\n",
    "    def step(self, action: Any) -> Tuple[Any, float, bool, dict]:\n",
    "        return super().step(action)\n",
    "    \n",
    "    def reset(self) -> None:\n",
    "        self.secm.move_to_next_experiment(self.step_size)\n",
    "    \n",
    "    def close(self):\n",
    "        self.secm.move_to_wash()\n",
    "        #TODO: shut off and disconnect potentiostat"
   ]
  }
 ],
 "metadata": {
  "kernelspec": {
   "display_name": "oer",
   "language": "python",
   "name": "python3"
  },
  "language_info": {
   "codemirror_mode": {
    "name": "ipython",
    "version": 3
   },
   "file_extension": ".py",
   "mimetype": "text/x-python",
   "name": "python",
   "nbconvert_exporter": "python",
   "pygments_lexer": "ipython3",
   "version": "3.10.11"
  },
  "orig_nbformat": 4
 },
 "nbformat": 4,
 "nbformat_minor": 2
}
