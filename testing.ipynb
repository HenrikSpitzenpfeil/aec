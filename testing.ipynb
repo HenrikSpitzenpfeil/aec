{
 "cells": [
  {
   "cell_type": "code",
   "execution_count": 1,
   "metadata": {},
   "outputs": [],
   "source": [
    "import pandas as pd\n",
    "import os\n",
    "import matplotlib.pyplot as plt\n",
    "from math import pi\n",
    "from utils import data_treatment\n",
    "import autolab.autolab"
   ]
  },
  {
   "cell_type": "code",
   "execution_count": 2,
   "metadata": {},
   "outputs": [],
   "source": [
    "plt.close()\n"
   ]
  },
  {
   "cell_type": "code",
   "execution_count": 3,
   "metadata": {},
   "outputs": [],
   "source": [
    "path = \"G:\\\\Andere Computer\\\\My Computer\\\\HPS Data\\\\SECM Software Measurements\\\\230621\"\n",
    "os.listdir(path)\n",
    "def filename (number: str) -> str:\n",
    "    return f\"{number} Linear Sweep Voltammetry.dat\"\n",
    "\n",
    "def area_circle(diameter: float) -> float:\n",
    "    return pi * (0.5 * diameter)**2\n",
    "\n",
    "def current_density(current):\n",
    "    area = area_circle(0.05)\n",
    "    return current/area\n",
    "\n",
    "filename_list = [\"002\", \"004\", \"007\"]\n",
    "\n",
    "# for file in filename_list:\n",
    "#     full_path = os.path.join(path, filename(file))\n",
    "#     df = pd.read_table(full_path, sep = \",\", skiprows = 14)\n",
    "#     df[\"current density\"] = df[\" Current WE1 [A]\"].map(current_density)\n",
    "#     plt.plot(df[\"# Potential [V]\"], df[\" Current WE1 [A]\"], label = file)\n",
    "#     plt.legend()\n",
    "#     plt.xlabel(\"Potential [V]\")\n",
    "#     plt.ylabel(\"current density [j/ cm^2]\")"
   ]
  },
  {
   "cell_type": "code",
   "execution_count": null,
   "metadata": {},
   "outputs": [],
   "source": [
    "df = pd.read_table(full_path, sep = \",\", skiprows= 14)\n",
    "df"
   ]
  },
  {
   "cell_type": "code",
   "execution_count": null,
   "metadata": {},
   "outputs": [],
   "source": [
    "df[\"current density\"] = df[\" Current WE1 [A]\"].map(current_density)"
   ]
  },
  {
   "cell_type": "code",
   "execution_count": null,
   "metadata": {},
   "outputs": [],
   "source": [
    "plt.plot(df[\"# Potential [V]\"], df[\"current density\"])"
   ]
  },
  {
   "cell_type": "code",
   "execution_count": 4,
   "metadata": {},
   "outputs": [],
   "source": [
    "config = {\n",
    "    'adk': 'E:\\\\Metrohm\\\\config\\\\Adk',\n",
    "    'sdk': 'E:\\\\Metrohm\\\\EcoChemie.Autolab.Sdk',\n",
    "    'hsf': 'E:\\\\Metrohm\\\\Hardware Setup Files\\\\PGSTAT302N\\\\HardwareSetup.xml',\n",
    "    'sim': False\n",
    "}\n",
    "potentiostat = autolab.autolab.potentiostat(config)"
   ]
  },
  {
   "cell_type": "code",
   "execution_count": null,
   "metadata": {},
   "outputs": [],
   "source": [
    "directory = os.path.join(data_treatment.gdrive_path, \"sdc experiments\")\n",
    "files = os.listdir(directory)"
   ]
  },
  {
   "cell_type": "code",
   "execution_count": null,
   "metadata": {},
   "outputs": [],
   "source": [
    "for file in files:\n",
    "    df = potentiostat.nox_parser(os.path.join(directory,file), \"LSV staircase\")\n",
    "    plt.figure()\n",
    "    plt.plot(df[\"Potential applied\"], df[\"WE(1).Current\"], label = file)\n",
    "plt.show"
   ]
  },
  {
   "cell_type": "code",
   "execution_count": null,
   "metadata": {},
   "outputs": [],
   "source": [
    "name = \"line sweep\"\n",
    "\n",
    "for n in range(5):\n",
    "    filename = os.path.join(path, f\"secmpy semiauto test {n}.nox\")\n",
    "    print(filename)"
   ]
  },
  {
   "cell_type": "code",
   "execution_count": null,
   "metadata": {},
   "outputs": [],
   "source": [
    "path = \"G:\\\\Andere Computer\\\\My Computer\\\\HPS Data\\\\SECM Software Measurements\"\n",
    "directory_content= os.listdir(path)"
   ]
  },
  {
   "cell_type": "code",
   "execution_count": null,
   "metadata": {},
   "outputs": [],
   "source": [
    "plt.rcParams['figure.dpi'] = 300\n",
    "for item in directory_content:\n",
    "    object_path = os.path.join(path, item)\n",
    "    if os.path.isdir(object_path):\n",
    "        plt.figure()\n",
    "        for file in os.listdir(object_path):\n",
    "            file_path = os.path.join(object_path, file)\n",
    "            df = pd.read_table(file_path, sep = \",\", skiprows = 14)\n",
    "            df[\"current density\"] = df[\" Current WE1 [A]\"].map(current_density)\n",
    "            plt.plot(df[\"# Potential [V]\"], df[\"current density\"], label = file)\n",
    "            plt.legend()\n",
    "            plt.xlabel(\"Potential [V]\")\n",
    "            plt.ylabel(\"current density [j/ cm^2]\")\n",
    "            "
   ]
  },
  {
   "cell_type": "code",
   "execution_count": 5,
   "metadata": {},
   "outputs": [],
   "source": [
    "path = \"G:\\\\Andere Computer\\\\My Computer\\\\HPS Data\\\\Autolab\\\\NovaProcedure\"\n",
    "file = \"011_010_NovaProcedure.nox\""
   ]
  },
  {
   "attachments": {},
   "cell_type": "markdown",
   "metadata": {},
   "source": [
    "OCP Histogram and Statistics on OCP Values\n"
   ]
  },
  {
   "cell_type": "code",
   "execution_count": null,
   "metadata": {},
   "outputs": [],
   "source": [
    "ocp_data = pd.DataFrame(columns= [\"OCP value\"])\n",
    "ocp_list = []\n",
    "for file in os.listdir(path):\n",
    "    if file.startswith(\"012_\"):\n",
    "        procedure = potentiostat.instrument.LoadProcedure(os.path.join(path, file))\n",
    "        command = procedure.Commands[\"OCP determination\"]\n",
    "        ocp_list.append(command.Signals.get_Item(\"OCP value\").Value)\n",
    "ocp_data[\"OCP value\"] = ocp_list"
   ]
  },
  {
   "cell_type": "code",
   "execution_count": null,
   "metadata": {},
   "outputs": [],
   "source": [
    "#ocp_data = ocp_data.drop(index = 34)\n",
    "ocp_data = ocp_data[ocp_data[\"OCP value\"] < 0.5]\n",
    "ocp_data = ocp_data[ocp_data[\"OCP value\"] > -0.8]"
   ]
  },
  {
   "cell_type": "code",
   "execution_count": null,
   "metadata": {},
   "outputs": [],
   "source": [
    "plt.rcParams['figure.dpi'] = 300\n",
    "print(ocp_data.mean(), \"mean\")\n",
    "print(ocp_data.std(), \"std\")\n",
    "print(ocp_data.var(), \"variance\")\n",
    "print(ocp_data.median(), \"median\")\n",
    "ocp_data.hist(column=[\"OCP value\"], bins = 15)\n",
    "plt.grid(False)\n",
    "plt.xlabel(\"E [V]\")"
   ]
  },
  {
   "cell_type": "code",
   "execution_count": 7,
   "metadata": {},
   "outputs": [
    {
     "name": "stdout",
     "output_type": "stream",
     "text": [
      "Cyclic voltammetry potentiostatic\n",
      "Autolab control\n",
      "OCP determination\n",
      "E vs t\n",
      "Custom\n",
      "!!Hidden command, this should not be displayed\n",
      "Set potential\n",
      "Set cell\n",
      "Wait time (s)\n",
      "Optimize current range\n",
      "CV staircase\n",
      "i vs E\n",
      "Set cell\n"
     ]
    }
   ],
   "source": [
    "procedure = potentiostat.instrument.LoadProcedure(os.path.join(path,file))\n",
    "for command in procedure.Commands.Names:\n",
    "    print(command)"
   ]
  },
  {
   "cell_type": "code",
   "execution_count": 8,
   "metadata": {},
   "outputs": [
    {
     "name": "stdout",
     "output_type": "stream",
     "text": [
      "System.Double[]\n",
      "Potential applied\n",
      "System.Double[]\n",
      "Time\n",
      "System.Double[]\n",
      "WE(1).Current\n",
      "System.Double[]\n",
      "WE(1).Potential\n",
      "System.Int32[]\n",
      "Scan\n",
      "System.Int32[]\n",
      "Index\n",
      "System.Double[]\n",
      "Q+\n",
      "System.Double[]\n",
      "Q-\n"
     ]
    }
   ],
   "source": [
    "command = procedure.Commands[\"CV staircase\"]\n",
    "for column in command.Signals.Names:\n",
    "    print(command.Signals.get_Item(column).Value)\n",
    "    print(column)"
   ]
  },
  {
   "attachments": {},
   "cell_type": "markdown",
   "metadata": {},
   "source": [
    "CV Analysis\n"
   ]
  },
  {
   "cell_type": "code",
   "execution_count": 14,
   "metadata": {},
   "outputs": [
    {
     "data": {
      "image/png": "[encoded data removed]",
      "text/plain": [
       "<Figure size 640x480 with 1 Axes>"
      ]
     },
     "metadata": {},
     "output_type": "display_data"
    }
   ],
   "source": [
    "command = procedure.Commands[\"CV staircase\"]\n",
    "scan = 1\n",
    "list_of_files = []\n",
    "for file in os.listdir(path):\n",
    "    if file.startswith(\"011_\"):\n",
    "        list_of_files.append(file)\n",
    "\n",
    "data_list = []\n",
    "for file in list_of_files:\n",
    "    df = pd.DataFrame()\n",
    "    for column in command.Signals.Names:\n",
    "        if len(list(command.Signals.get_Item(column).Value)) != 0:\n",
    "            df[column] = list(command.Signals.get_Item(column).Value)\n",
    "    data_list.append(df)\n",
    "\n",
    "for df in data_list[0:2]:   \n",
    "    df[\"current density\"] = df[\"WE(1).Current\"].map(current_density)\n",
    "    #df = df.loc[df['Scan'] == scan]\n",
    "    plt.plot(df[\"Potential applied\"], df[\"WE(1).Current\"])\n",
    "    plt.xlabel(\"E [V]\")\n",
    "    plt.ylabel(\"j [A/ cm^2]\")"
   ]
  },
  {
   "cell_type": "code",
   "execution_count": null,
   "metadata": {},
   "outputs": [],
   "source": [
    "#df_scan[\"current density\"] = df_scan[\"WE(1).Current\"].map(current_density)\n",
    "plt.plot(df[\"Potential applied\"], df[\"current density\"], label = file)\n",
    "plt.legend()\n",
    "plt.xlabel(\"E [V]\")\n",
    "plt.ylabel(\"j [A/ cm^2]\")"
   ]
  },
  {
   "cell_type": "code",
   "execution_count": null,
   "metadata": {},
   "outputs": [],
   "source": [
    "for scan in range(3):\n",
    "    df_scan = df.loc[df['Scan'] == scan+1]\n",
    "    plt.plot(df_scan[\"Potential applied\"], df_scan[\"current density\"], label = file + \" \" + str(scan))\n",
    "    plt.legend()\n",
    "    plt.xlabel(\"E [V]\")\n",
    "    plt.ylabel(\"j [A/ cm^2]\")"
   ]
  },
  {
   "cell_type": "code",
   "execution_count": null,
   "metadata": {},
   "outputs": [],
   "source": []
  }
 ],
 "metadata": {
  "kernelspec": {
   "display_name": "oer",
   "language": "python",
   "name": "python3"
  },
  "language_info": {
   "codemirror_mode": {
    "name": "ipython",
    "version": 3
   },
   "file_extension": ".py",
   "mimetype": "text/x-python",
   "name": "python",
   "nbconvert_exporter": "python",
   "pygments_lexer": "ipython3",
   "version": "3.11.3"
  },
  "orig_nbformat": 4
 },
 "nbformat": 4,
 "nbformat_minor": 2
}
